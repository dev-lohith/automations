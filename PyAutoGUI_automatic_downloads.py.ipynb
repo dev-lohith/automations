{
 "cells": [
  {
   "cell_type": "markdown",
   "metadata": {},
   "source": [
    "# pyautogui"
   ]
  },
  {
   "cell_type": "code",
   "execution_count": null,
   "metadata": {},
   "outputs": [],
   "source": [
    "#import\n",
    "import pyautogui"
   ]
  },
  {
   "cell_type": "code",
   "execution_count": null,
   "metadata": {},
   "outputs": [],
   "source": [
    "#choose position\n",
    "pyautogui.position()"
   ]
  },
  {
   "cell_type": "code",
   "execution_count": null,
   "metadata": {},
   "outputs": [],
   "source": [
    "#keyboard control\n",
    "pyautogui.hotkey('ctrl', 'shift', 'esc')"
   ]
  },
  {
   "cell_type": "code",
   "execution_count": null,
   "metadata": {},
   "outputs": [],
   "source": [
    "#move to move to previous tab on browser\n",
    "pyautogui.hotkey('ctrlleft', 'shiftleft', 'tab', interval = 0.25)\n",
    "\n",
    "#pan around the screen\n",
    "pyautogui.moveTo(1907, 230)\n",
    "pyautogui.dragTo(84, 230, button='left')\n",
    "\n",
    "#select position\n",
    "pyautogui.click(x=373, y=151)\n",
    "pyautogui.click(x=624, y=277)\n",
    "pyautogui.click(x=683, y=191)"
   ]
  },
  {
   "cell_type": "markdown",
   "metadata": {},
   "source": [
    "# Mapillary extraction"
   ]
  },
  {
   "cell_type": "code",
   "execution_count": null,
   "metadata": {},
   "outputs": [],
   "source": [
    "#move to mapillary window\n",
    "pyautogui.hotkey('ctrlleft', 'shiftleft', 'tab', interval = 0.25)\n",
    "\n",
    "pyautogui.click(x=373, y=151)\n",
    "pyautogui.click(x=624, y=277)\n",
    "pyautogui.click(x=683, y=191)\n",
    "\n",
    "for each in range(8):\n",
    "    \n",
    "    for each in range(24):\n",
    "        #pan around the screen\n",
    "        pyautogui.moveTo(1907, 230)\n",
    "        pyautogui.dragTo(84, 230, button='left')\n",
    "        pyautogui.PAUSE = 2\n",
    "    \n",
    "\n",
    "        #downloading data\n",
    "        pyautogui.click(x=373, y=151)\n",
    "        pyautogui.click(x=624, y=277)\n",
    "        pyautogui.click(x=683, y=191)\n",
    "\n",
    "    \n",
    "    for each in range(24):\n",
    "        #pan around the screen\n",
    "        pyautogui.moveTo(84, 230)\n",
    "        pyautogui.dragTo(1907, 230, button='left')\n",
    "        \n",
    "    \n",
    "    pyautogui.moveTo(475, 1079)\n",
    "    pyautogui.dragTo(475, 126, button='left')\n",
    "    \n",
    "    pyautogui.click(x=373, y=151)\n",
    "    pyautogui.click(x=624, y=277)\n",
    "    pyautogui.click(x=683, y=191)"
   ]
  },
  {
   "cell_type": "markdown",
   "metadata": {},
   "source": [
    "# TaskMonk Batch Creation"
   ]
  },
  {
   "cell_type": "code",
   "execution_count": null,
   "metadata": {},
   "outputs": [],
   "source": [
    "#Automatic new batch creation \n",
    "new_batch_name = 'Hello_world'\n",
    "\n",
    "pyautogui.click('/home/lohitd@nextbillion.ai/Pictures/chrome_newtab.png', interval=1)\n",
    "pyautogui.write('https://task.nextbillion.io/org/nbai/home', interval=0.1)\n",
    "pyautogui.press('enter', interval=2)\n",
    "pyautogui.click(1522, 137, interval=1)\n",
    "pyautogui.moveTo(262, 628)\n",
    "pyautogui.click(button = 'left', interval=1)\n",
    "pyautogui.moveTo(1188, 232)\n",
    "pyautogui.click(button = 'left')\n",
    "pyautogui.moveTo(153, 402)\n",
    "pyautogui.click(button = 'left')\n",
    "pyautogui.moveTo(1761, 328)\n",
    "pyautogui.click(button = 'left')\n",
    "pyautogui.moveTo(934, 439)\n",
    "pyautogui.click(button = 'left')\n",
    "pyautogui.click(button = 'left')\n",
    "pyautogui.write(new_batch_name)\n",
    "pyautogui.moveTo(1121, 757)\n",
    "pyautogui.click(button = 'left')\n",
    "pyautogui.click(button = 'left')\n"
   ]
  },
  {
   "cell_type": "markdown",
   "metadata": {},
   "source": [
    "# open new tab"
   ]
  },
  {
   "cell_type": "code",
   "execution_count": null,
   "metadata": {},
   "outputs": [],
   "source": [
    "chrome_newtab = pyautogui.locateOnScreen('/home/lohitd@nextbillion.ai/Pictures/chrome_newtab.png')\n",
    "chrome_newtab_point = pyautogui.center(chrome_newtab)\n",
    "chrome_newtab_pointx ,chrome_newtab_pointy = chrome_newtab_point\n",
    "pyautogui.click(chrome_newtab_pointx ,chrome_newtab_pointy)"
   ]
  },
  {
   "cell_type": "code",
   "execution_count": null,
   "metadata": {},
   "outputs": [],
   "source": [
    "#test"
   ]
  }
 ],
 "metadata": {
  "kernelspec": {
   "display_name": "Python 3 (ipykernel)",
   "language": "python",
   "name": "python3"
  },
  "language_info": {
   "codemirror_mode": {
    "name": "ipython",
    "version": 3
   },
   "file_extension": ".py",
   "mimetype": "text/x-python",
   "name": "python",
   "nbconvert_exporter": "python",
   "pygments_lexer": "ipython3",
   "version": "3.10.12"
  }
 },
 "nbformat": 4,
 "nbformat_minor": 4
}
