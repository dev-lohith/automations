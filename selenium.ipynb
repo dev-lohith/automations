{
 "cells": [
  {
   "cell_type": "markdown",
   "id": "95fb6f3f",
   "metadata": {},
   "source": [
    "SELENIUM"
   ]
  },
  {
   "cell_type": "code",
   "execution_count": 1,
   "id": "f92fd2d6-2732-4a8c-912c-c02d08ed11ba",
   "metadata": {},
   "outputs": [],
   "source": [
    "from selenium import webdriver\n",
    "from selenium.webdriver.common.by import By\n",
    "from selenium.webdriver.chrome.options import Options"
   ]
  },
  {
   "cell_type": "code",
   "execution_count": 2,
   "id": "94af6ed6-bc32-4232-a978-6c278cd3c160",
   "metadata": {},
   "outputs": [],
   "source": [
    "# Download chrome driver sutitable for current chrome browser version\n",
    "chrome_driver_path = '/home/lohith/Downloads/chromedriver_linux64/chromedriver'\n",
    "\n",
    "# Create Chrome options and set the executable path\n",
    "chrome_options = webdriver.ChromeOptions()\n",
    "chrome_options.binary_location = '/usr/bin/google-chrome'  # which google-chrome in terminal gives the path to your Chrome binary if needed\n",
    "\n",
    "# Create a Chrome browser instance with options\n",
    "driver = webdriver.Chrome(options=chrome_options)\n",
    "\n",
    "# Now you can use the 'driver' object to interact with the browser\n",
    "# For example, you can navigate to a URL:\n",
    "driver.get('https://postal-codes.cybo.com/india/744112')\n",
    "\n",
    "# Close the browser when done\n",
    "#driver.quit()"
   ]
  },
  {
   "cell_type": "code",
   "execution_count": null,
   "id": "a28819bb-0395-4074-acea-c16ec629ee55",
   "metadata": {},
   "outputs": [],
   "source": [
    "# Find an element by its ID and interact with it\n",
    "element = driver.find_element_by_id('element_id')\n",
    "element.click()\n",
    "\n",
    "# Find an element by its name and input text\n",
    "input_element = driver.find_element_by_name('input_name')\n",
    "input_element.send_keys('Hello, Selenium!')\n",
    "\n",
    "# Find an element by its XPath and perform an action\n",
    "button_element = driver.find_element_by_xpath('//button[@class=\"button-class\"]')\n",
    "button_element.click()\n",
    "\n",
    "# Handle alerts\n",
    "alert = driver.switch_to.alert\n",
    "alert.accept()\n",
    "\n",
    "# Take a screenshot\n",
    "driver.save_screenshot('screenshot.png')\n",
    "\n",
    "# Close the browser\n",
    "driver.quit()"
   ]
  },
  {
   "cell_type": "code",
   "execution_count": null,
   "id": "e36c6633-f2ce-4619-8bc7-5c21e4648ca0",
   "metadata": {},
   "outputs": [],
   "source": []
  }
 ],
 "metadata": {
  "kernelspec": {
   "display_name": "Python 3 (ipykernel)",
   "language": "python",
   "name": "python3"
  },
  "language_info": {
   "codemirror_mode": {
    "name": "ipython",
    "version": 3
   },
   "file_extension": ".py",
   "mimetype": "text/x-python",
   "name": "python",
   "nbconvert_exporter": "python",
   "pygments_lexer": "ipython3",
   "version": "3.10.12"
  }
 },
 "nbformat": 4,
 "nbformat_minor": 5
}
