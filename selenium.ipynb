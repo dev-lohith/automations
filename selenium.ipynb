{
 "cells": [
  {
   "cell_type": "markdown",
   "id": "95fb6f3f",
   "metadata": {},
   "source": [
    "SELENIUM"
   ]
  },
  {
   "cell_type": "code",
   "execution_count": null,
   "id": "306f34d3-b321-449c-8391-7e253d802b23",
   "metadata": {},
   "outputs": [],
   "source": [
    "from selenium import webdriver\n",
    "from selenium.webdriver.common.by import By\n",
    "from selenium.webdriver.chrome.options import Options\n",
    "\n",
    "chrome_options = Options()\n",
    "chrome_options.add_argument(\"--headless\")\n",
    "\n",
    "# Path to your ChromeDriver\n",
    "chromedriver_path = '/home/lohith/Downloads/chromedriver_linux64/chromedriver'\n",
    "\n",
    "# List of URLs\n",
    "links = [\"url1\", \"url2\", \"url3\", \"url4\"]\n",
    "\n",
    "def get_element_text(driver, xpath):\n",
    "    try:\n",
    "        element = driver.find_element(By.XPATH, xpath)\n",
    "        return element.text\n",
    "    except:\n",
    "        return \"error\"\n",
    "\n",
    "def main():\n",
    "    livetraffic_google = []\n",
    "    nb_duration = []\n",
    "    google_distances = []\n",
    "    nb_distances = []\n",
    "\n",
    "    with webdriver.Chrome(chromedriver_path, options=chrome_options) as driver:\n",
    "        for link in links:\n",
    "            driver.get(link)\n",
    "            time.sleep(5)  # Adjust the sleep duration as needed\n",
    "            \n",
    "            livetraffic_google.append(get_element_text(driver, \"/html/body/app-root/app-base-layout/app-map/div/div[5]/div[2]/dl/dd[3]\"))\n",
    "            nb_duration.append(get_element_text(driver, \"/html/body/app-root/app-base-layout/app-map/div/div[4]/div[2]/dl/dd[2]\"))\n",
    "            google_distances.append(get_element_text(driver, \"/html/body/app-root/app-base-layout/app-map/div/div[5]/div[2]/dl/dd[1]\"))\n",
    "            nb_distances.append(get_element_text(driver, \"/html/body/app-root/app-base-layout/app-map/div/div[4]/div[2]/dl/dd[1]\"))\n",
    "\n",
    "    print(\"Live Traffic (Google):\")\n",
    "    for traffic in livetraffic_google:\n",
    "        print(traffic.replace(\"liveTraffic: \", \"\"))\n",
    "\n",
    "    print(\"\\nNB Durations:\")\n",
    "    for duration in nb_duration:\n",
    "        print(duration)\n",
    "\n",
    "    print(\"\\nGoogle Distances:\")\n",
    "    for distance in google_distances:\n",
    "        print(distance)\n",
    "\n",
    "    print(\"\\nNB Distances:\")\n",
    "    for distance in nb_distances:\n",
    "        print(distance)\n",
    "\n",
    "if __name__ == \"__main__\":\n",
    "    main()\n"
   ]
  }
 ],
 "metadata": {
  "kernelspec": {
   "display_name": "Python 3 (ipykernel)",
   "language": "python",
   "name": "python3"
  },
  "language_info": {
   "codemirror_mode": {
    "name": "ipython",
    "version": 3
   },
   "file_extension": ".py",
   "mimetype": "text/x-python",
   "name": "python",
   "nbconvert_exporter": "python",
   "pygments_lexer": "ipython3",
   "version": "3.10.12"
  }
 },
 "nbformat": 4,
 "nbformat_minor": 5
}
