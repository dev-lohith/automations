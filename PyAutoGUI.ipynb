{
 "cells": [
  {
   "cell_type": "markdown",
   "metadata": {},
   "source": [
    "# pyautogui"
   ]
  },
  {
   "cell_type": "code",
   "execution_count": 6,
   "metadata": {},
   "outputs": [],
   "source": [
    "# import\n",
    "import pyautogui\n",
    "import time"
   ]
  },
  {
   "cell_type": "markdown",
   "metadata": {},
   "source": [
    "# Screen"
   ]
  },
  {
   "cell_type": "code",
   "execution_count": 4,
   "metadata": {},
   "outputs": [
    {
     "name": "stdout",
     "output_type": "stream",
     "text": [
      "Screen size: 1920 x 1080\n"
     ]
    }
   ],
   "source": [
    "# Get screen size\n",
    "screen_width, screen_height = pyautogui.size()\n",
    "print(\"Screen size:\", screen_width, \"x\", screen_height)"
   ]
  },
  {
   "cell_type": "code",
   "execution_count": null,
   "metadata": {},
   "outputs": [],
   "source": [
    "# Take a screenshot using pillow\n",
    "screenshot = ImageGrab.grab()\n",
    "screenshot_path = \"./screenshot.png\"  # Specify the correct path\n",
    "screenshot.save(screenshot_path)\n",
    "print(\"Screenshot saved:\", screenshot_path)"
   ]
  },
  {
   "cell_type": "markdown",
   "metadata": {},
   "source": [
    "# Mouse Control"
   ]
  },
  {
   "cell_type": "code",
   "execution_count": 11,
   "metadata": {},
   "outputs": [
    {
     "name": "stdout",
     "output_type": "stream",
     "text": [
      "Current Mouse Position:\n",
      "X: 608\n",
      "Y: 787\n"
     ]
    }
   ],
   "source": [
    "# Wait for a specified time\n",
    "time.sleep(5)  # Adjust the sleep duration as needed\n",
    "\n",
    "# Get the current mouse position\n",
    "x, y = pyautogui.position()\n",
    "\n",
    "# Print the coordinates\n",
    "print(\"Current Mouse Position:\")\n",
    "print(\"X:\", x)\n",
    "print(\"Y:\", y)"
   ]
  },
  {
   "cell_type": "code",
   "execution_count": 12,
   "metadata": {},
   "outputs": [],
   "source": [
    "# pan around the screen\n",
    "# Move the mouse to a specific position\n",
    "new_x, new_y = 500, 500\n",
    "pyautogui.moveTo(new_x, new_y, duration=1)\n",
    "\n",
    "\n",
    "pyautogui.dragTo(84, 230, button='left')\n",
    "\n",
    "#select position\n",
    "pyautogui.click(x=373, y=151)\n",
    "\n",
    "# Scroll the mouse wheel\n",
    "scroll_amount = 3\n",
    "pyautogui.scroll(scroll_amount)"
   ]
  },
  {
   "cell_type": "markdown",
   "metadata": {},
   "source": [
    "# Keyboard Control"
   ]
  },
  {
   "cell_type": "code",
   "execution_count": null,
   "metadata": {},
   "outputs": [],
   "source": [
    "# keyboard control\n",
    "pyautogui.hotkey(\"ctrl\", \"c\")  # Simulate Ctrl+C"
   ]
  },
  {
   "cell_type": "code",
   "execution_count": null,
   "metadata": {},
   "outputs": [],
   "source": [
    "# Type a message using the keyboard\n",
    "message = \"Hello, PyAutoGUI!\"\n",
    "pyautogui.write(message, interval=0.1)  # Typing with a slight delay\n",
    "\n",
    "# Function to pause execution and display a message\n",
    "def pause_with_message(message):\n",
    "    print(message)\n",
    "    input(\"Press Enter to continue...\")\n",
    "\n",
    "# Display message and pause for confirmation\n",
    "pause_with_message(\"Automation script completed.\")"
   ]
  },
  {
   "cell_type": "code",
   "execution_count": 15,
   "metadata": {},
   "outputs": [
    {
     "name": "stdout",
     "output_type": "stream",
     "text": [
      "Automation script completed.\n"
     ]
    },
    {
     "name": "stdin",
     "output_type": "stream",
     "text": [
      "Press Enter to continue... \n"
     ]
    }
   ],
   "source": [
    "# Function to pause execution and display a message\n",
    "def pause_with_message(message):\n",
    "    print(message)\n",
    "    input(\"Press Enter to continue...\")\n",
    "\n",
    "# Display message and pause for confirmation\n",
    "pause_with_message(\"Automation script completed.\")"
   ]
  },
  {
   "cell_type": "markdown",
   "metadata": {},
   "source": [
    "# Mapillary extraction"
   ]
  },
  {
   "cell_type": "code",
   "execution_count": null,
   "metadata": {},
   "outputs": [],
   "source": [
    "#move to mapillary window\n",
    "pyautogui.hotkey('ctrlleft', 'shiftleft', 'tab', interval = 0.25)\n",
    "\n",
    "pyautogui.click(x=373, y=151)\n",
    "pyautogui.click(x=624, y=277)\n",
    "pyautogui.click(x=683, y=191)\n",
    "\n",
    "for each in range(8):\n",
    "    \n",
    "    for each in range(24):\n",
    "        #pan around the screen\n",
    "        pyautogui.moveTo(1907, 230)\n",
    "        pyautogui.dragTo(84, 230, button='left')\n",
    "        pyautogui.PAUSE = 2\n",
    "    \n",
    "\n",
    "        #downloading data\n",
    "        pyautogui.click(x=373, y=151)\n",
    "        pyautogui.click(x=624, y=277)\n",
    "        pyautogui.click(x=683, y=191)\n",
    "\n",
    "    \n",
    "    for each in range(24):\n",
    "        #pan around the screen\n",
    "        pyautogui.moveTo(84, 230)\n",
    "        pyautogui.dragTo(1907, 230, button='left')\n",
    "        \n",
    "    \n",
    "    pyautogui.moveTo(475, 1079)\n",
    "    pyautogui.dragTo(475, 126, button='left')\n",
    "    \n",
    "    pyautogui.click(x=373, y=151)\n",
    "    pyautogui.click(x=624, y=277)\n",
    "    pyautogui.click(x=683, y=191)"
   ]
  },
  {
   "cell_type": "markdown",
   "metadata": {},
   "source": [
    "# TaskMonk Batch Creation"
   ]
  },
  {
   "cell_type": "code",
   "execution_count": null,
   "metadata": {},
   "outputs": [],
   "source": [
    "#Automatic new batch creation \n",
    "new_batch_name = 'Hello_world'\n",
    "\n",
    "pyautogui.click('./Pictures/chrome_newtab.png', interval=1)\n",
    "pyautogui.write('./home', interval=0.1)\n",
    "pyautogui.press('enter', interval=2)\n",
    "pyautogui.click(1522, 137, interval=1)\n",
    "pyautogui.moveTo(262, 628)\n",
    "pyautogui.click(button = 'left', interval=1)\n",
    "pyautogui.moveTo(1188, 232)\n",
    "pyautogui.click(button = 'left')\n",
    "pyautogui.moveTo(153, 402)\n",
    "pyautogui.click(button = 'left')\n",
    "pyautogui.moveTo(1761, 328)\n",
    "pyautogui.click(button = 'left')\n",
    "pyautogui.moveTo(934, 439)\n",
    "pyautogui.click(button = 'left')\n",
    "pyautogui.click(button = 'left')\n",
    "pyautogui.write(new_batch_name)\n",
    "pyautogui.moveTo(1121, 757)\n",
    "pyautogui.click(button = 'left')\n",
    "pyautogui.click(button = 'left')\n"
   ]
  },
  {
   "cell_type": "markdown",
   "metadata": {},
   "source": [
    "# open new tab"
   ]
  },
  {
   "cell_type": "code",
   "execution_count": null,
   "metadata": {},
   "outputs": [],
   "source": [
    "chrome_newtab = pyautogui.locateOnScreen('./Pictures/chrome_newtab.png')\n",
    "chrome_newtab_point = pyautogui.center(chrome_newtab)\n",
    "chrome_newtab_pointx ,chrome_newtab_pointy = chrome_newtab_point\n",
    "pyautogui.click(chrome_newtab_pointx ,chrome_newtab_pointy)"
   ]
  },
  {
   "cell_type": "code",
   "execution_count": null,
   "metadata": {},
   "outputs": [],
   "source": [
    "#test"
   ]
  }
 ],
 "metadata": {
  "kernelspec": {
   "display_name": "Python 3 (ipykernel)",
   "language": "python",
   "name": "python3"
  },
  "language_info": {
   "codemirror_mode": {
    "name": "ipython",
    "version": 3
   },
   "file_extension": ".py",
   "mimetype": "text/x-python",
   "name": "python",
   "nbconvert_exporter": "python",
   "pygments_lexer": "ipython3",
   "version": "3.10.12"
  }
 },
 "nbformat": 4,
 "nbformat_minor": 4
}
