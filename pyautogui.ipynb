{
 "cells": [
  {
   "cell_type": "markdown",
   "metadata": {},
   "source": [
    "# pyautogui"
   ]
  },
  {
   "cell_type": "markdown",
   "metadata": {},
   "source": [
    "# utoGUI!Hello"
   ]
  },
  {
   "cell_type": "code",
   "execution_count": null,
   "metadata": {},
   "outputs": [],
   "source": [
    "import pyautogui\n",
    "from PIL import ImageGrab\n",
    "import time"
   ]
  },
  {
   "cell_type": "code",
   "execution_count": null,
   "metadata": {},
   "outputs": [
    {
     "name": "stdout",
     "output_type": "stream",
     "text": [
      "[sudo] password for lohith: "
     ]
    }
   ],
   "source": [
    "!sudo apt-get install scrot"
   ]
  },
  {
   "cell_type": "code",
   "execution_count": null,
   "metadata": {},
   "outputs": [],
   "source": [
    "# Function to pause execution and display a message\n",
    "def pause_with_message(message):\n",
    "    print(message)\n",
    "    input(\"Press Enter to continue...\")"
   ]
  },
  {
   "cell_type": "code",
   "execution_count": null,
   "metadata": {},
   "outputs": [],
   "source": [
    "# Get screen size\n",
    "screen_width, screen_height = pyautogui.size()\n",
    "print(\"Screen size:\", screen_width, \"x\", screen_height)"
   ]
  },
  {
   "cell_type": "code",
   "execution_count": null,
   "metadata": {},
   "outputs": [],
   "source": [
    "# Get mouse position\n",
    "mouse_x, mouse_y = pyautogui.position()\n",
    "print(\"Mouse position:\", mouse_x, mouse_y)"
   ]
  },
  {
   "cell_type": "code",
   "execution_count": null,
   "metadata": {},
   "outputs": [],
   "source": [
    "# Move the mouse to a specific position\n",
    "new_x, new_y = 500, 500\n",
    "pyautogui.moveTo(new_x, new_y, duration=1)\n",
    "Hello, PyAutoGUI!\n",
    "# Click the mouse at a specific position\n",
    "pyautogui.click(new_x, new_y)"
   ]
  },
  {
   "cell_type": "code",
   "execution_count": null,
   "metadata": {},
   "outputs": [],
   "source": [
    "# Type a message using the keyboard\n",
    "message = \"Hello, PyAutoGUI!\"\n",
    "pyautogui.write(message, interval=0.1)  # Typing with a slight delay"
   ]
  },
  {
   "cell_type": "code",
   "execution_count": null,
   "metadata": {},
   "outputs": [],
   "source": [
    "# Take a screenshot using pillow\n",
    "screenshot = ImageGrab.grab()\n",
    "screenshot_path = \"./screenshot.png\"  # Specify the correct path\n",
    "screenshot.save(screenshot_path)\n",
    "print(\"Screenshot saved:\", screenshot_path)"
   ]
  },
  {
   "cell_type": "code",
   "execution_count": null,
   "metadata": {},
   "outputs": [],
   "source": [
    "# Scroll the mouse wheel\n",
    "scroll_amount = 3\n",
    "pyautogui.scroll(scroll_amount)"
   ]
  },
  {
   "cell_type": "code",
   "execution_count": null,
   "metadata": {},
   "outputs": [],
   "source": [
    "# Keyboard shortcuts\n",
    "pyautogui.hotkey(\"ctrl\", \"c\")  # Simulate Ctrl+C"
   ]
  },
  {
   "cell_type": "code",
   "execution_count": null,
   "metadata": {},
   "outputs": [],
   "source": [
    "# Waiting\n",
    "time.sleep(2)  # Pause execution for 2 seconds"
   ]
  },
  {
   "cell_type": "code",
   "execution_count": null,
   "metadata": {},
   "outputs": [],
   "source": [
    "# Restoring mouse to original position\n",
    "pyautogui.moveTo(mouse_x, mouse_y, duration=1)\n",
    "\n",
    "# Display message and pause for confirmation\n",
    "pause_with_message(\"Automation script completed.\")"
   ]
  },
  {
   "cell_type": "code",
   "execution_count": null,
   "metadata": {},
   "outputs": [],
   "source": []
  },
  {
   "cell_type": "code",
   "execution_count": 4,
   "metadata": {},
   "outputs": [
    {
     "ename": "FileNotFoundError",
     "evalue": "[Errno 2] No such file or directory: 'scrot'",
     "output_type": "error",
     "traceback": [
      "\u001b[0;31m---------------------------------------------------------------------------\u001b[0m",
      "\u001b[0;31mFileNotFoundError\u001b[0m                         Traceback (most recent call last)",
      "Cell \u001b[0;32mIn[4], line 27\u001b[0m\n\u001b[1;32m     24\u001b[0m     subprocess\u001b[38;5;241m.\u001b[39mrun([\u001b[38;5;124m\"\u001b[39m\u001b[38;5;124msudo\u001b[39m\u001b[38;5;124m\"\u001b[39m, \u001b[38;5;124m\"\u001b[39m\u001b[38;5;124mapt-get\u001b[39m\u001b[38;5;124m\"\u001b[39m, \u001b[38;5;124m\"\u001b[39m\u001b[38;5;124minstall\u001b[39m\u001b[38;5;124m\"\u001b[39m, \u001b[38;5;124m\"\u001b[39m\u001b[38;5;124mscrot\u001b[39m\u001b[38;5;124m\"\u001b[39m], check\u001b[38;5;241m=\u001b[39m\u001b[38;5;28;01mTrue\u001b[39;00m)\n\u001b[1;32m     26\u001b[0m \u001b[38;5;66;03m# Take a screenshot if \"scrot\" is installed\u001b[39;00m\n\u001b[0;32m---> 27\u001b[0m \u001b[38;5;28;01mif\u001b[39;00m \u001b[43mis_scrot_installed\u001b[49m\u001b[43m(\u001b[49m\u001b[43m)\u001b[49m:\n\u001b[1;32m     28\u001b[0m     screenshot \u001b[38;5;241m=\u001b[39m pyautogui\u001b[38;5;241m.\u001b[39mscreenshot()\n\u001b[1;32m     29\u001b[0m     screenshot_path \u001b[38;5;241m=\u001b[39m \u001b[38;5;124m\"\u001b[39m\u001b[38;5;124m,/\u001b[39m\u001b[38;5;124m\"\u001b[39m\n",
      "Cell \u001b[0;32mIn[4], line 17\u001b[0m, in \u001b[0;36mis_scrot_installed\u001b[0;34m()\u001b[0m\n\u001b[1;32m     15\u001b[0m \u001b[38;5;28;01mdef\u001b[39;00m \u001b[38;5;21mis_scrot_installed\u001b[39m():\n\u001b[1;32m     16\u001b[0m     \u001b[38;5;28;01mtry\u001b[39;00m:\n\u001b[0;32m---> 17\u001b[0m         \u001b[43msubprocess\u001b[49m\u001b[38;5;241;43m.\u001b[39;49m\u001b[43mrun\u001b[49m\u001b[43m(\u001b[49m\u001b[43m[\u001b[49m\u001b[38;5;124;43m\"\u001b[39;49m\u001b[38;5;124;43mscrot\u001b[39;49m\u001b[38;5;124;43m\"\u001b[39;49m\u001b[43m,\u001b[49m\u001b[43m \u001b[49m\u001b[38;5;124;43m\"\u001b[39;49m\u001b[38;5;124;43m--version\u001b[39;49m\u001b[38;5;124;43m\"\u001b[39;49m\u001b[43m]\u001b[49m\u001b[43m,\u001b[49m\u001b[43m \u001b[49m\u001b[43mstdout\u001b[49m\u001b[38;5;241;43m=\u001b[39;49m\u001b[43msubprocess\u001b[49m\u001b[38;5;241;43m.\u001b[39;49m\u001b[43mPIPE\u001b[49m\u001b[43m,\u001b[49m\u001b[43m \u001b[49m\u001b[43mstderr\u001b[49m\u001b[38;5;241;43m=\u001b[39;49m\u001b[43msubprocess\u001b[49m\u001b[38;5;241;43m.\u001b[39;49m\u001b[43mPIPE\u001b[49m\u001b[43m,\u001b[49m\u001b[43m \u001b[49m\u001b[43mcheck\u001b[49m\u001b[38;5;241;43m=\u001b[39;49m\u001b[38;5;28;43;01mTrue\u001b[39;49;00m\u001b[43m)\u001b[49m\n\u001b[1;32m     18\u001b[0m         \u001b[38;5;28;01mreturn\u001b[39;00m \u001b[38;5;28;01mTrue\u001b[39;00m\n\u001b[1;32m     19\u001b[0m     \u001b[38;5;28;01mexcept\u001b[39;00m subprocess\u001b[38;5;241m.\u001b[39mCalledProcessError:\n",
      "File \u001b[0;32m/usr/lib/python3.10/subprocess.py:503\u001b[0m, in \u001b[0;36mrun\u001b[0;34m(input, capture_output, timeout, check, *popenargs, **kwargs)\u001b[0m\n\u001b[1;32m    500\u001b[0m     kwargs[\u001b[38;5;124m'\u001b[39m\u001b[38;5;124mstdout\u001b[39m\u001b[38;5;124m'\u001b[39m] \u001b[38;5;241m=\u001b[39m PIPE\n\u001b[1;32m    501\u001b[0m     kwargs[\u001b[38;5;124m'\u001b[39m\u001b[38;5;124mstderr\u001b[39m\u001b[38;5;124m'\u001b[39m] \u001b[38;5;241m=\u001b[39m PIPE\n\u001b[0;32m--> 503\u001b[0m \u001b[38;5;28;01mwith\u001b[39;00m \u001b[43mPopen\u001b[49m\u001b[43m(\u001b[49m\u001b[38;5;241;43m*\u001b[39;49m\u001b[43mpopenargs\u001b[49m\u001b[43m,\u001b[49m\u001b[43m \u001b[49m\u001b[38;5;241;43m*\u001b[39;49m\u001b[38;5;241;43m*\u001b[39;49m\u001b[43mkwargs\u001b[49m\u001b[43m)\u001b[49m \u001b[38;5;28;01mas\u001b[39;00m process:\n\u001b[1;32m    504\u001b[0m     \u001b[38;5;28;01mtry\u001b[39;00m:\n\u001b[1;32m    505\u001b[0m         stdout, stderr \u001b[38;5;241m=\u001b[39m process\u001b[38;5;241m.\u001b[39mcommunicate(\u001b[38;5;28minput\u001b[39m, timeout\u001b[38;5;241m=\u001b[39mtimeout)\n",
      "File \u001b[0;32m/usr/lib/python3.10/subprocess.py:971\u001b[0m, in \u001b[0;36mPopen.__init__\u001b[0;34m(self, args, bufsize, executable, stdin, stdout, stderr, preexec_fn, close_fds, shell, cwd, env, universal_newlines, startupinfo, creationflags, restore_signals, start_new_session, pass_fds, user, group, extra_groups, encoding, errors, text, umask, pipesize)\u001b[0m\n\u001b[1;32m    967\u001b[0m         \u001b[38;5;28;01mif\u001b[39;00m \u001b[38;5;28mself\u001b[39m\u001b[38;5;241m.\u001b[39mtext_mode:\n\u001b[1;32m    968\u001b[0m             \u001b[38;5;28mself\u001b[39m\u001b[38;5;241m.\u001b[39mstderr \u001b[38;5;241m=\u001b[39m io\u001b[38;5;241m.\u001b[39mTextIOWrapper(\u001b[38;5;28mself\u001b[39m\u001b[38;5;241m.\u001b[39mstderr,\n\u001b[1;32m    969\u001b[0m                     encoding\u001b[38;5;241m=\u001b[39mencoding, errors\u001b[38;5;241m=\u001b[39merrors)\n\u001b[0;32m--> 971\u001b[0m     \u001b[38;5;28;43mself\u001b[39;49m\u001b[38;5;241;43m.\u001b[39;49m\u001b[43m_execute_child\u001b[49m\u001b[43m(\u001b[49m\u001b[43margs\u001b[49m\u001b[43m,\u001b[49m\u001b[43m \u001b[49m\u001b[43mexecutable\u001b[49m\u001b[43m,\u001b[49m\u001b[43m \u001b[49m\u001b[43mpreexec_fn\u001b[49m\u001b[43m,\u001b[49m\u001b[43m \u001b[49m\u001b[43mclose_fds\u001b[49m\u001b[43m,\u001b[49m\n\u001b[1;32m    972\u001b[0m \u001b[43m                        \u001b[49m\u001b[43mpass_fds\u001b[49m\u001b[43m,\u001b[49m\u001b[43m \u001b[49m\u001b[43mcwd\u001b[49m\u001b[43m,\u001b[49m\u001b[43m \u001b[49m\u001b[43menv\u001b[49m\u001b[43m,\u001b[49m\n\u001b[1;32m    973\u001b[0m \u001b[43m                        \u001b[49m\u001b[43mstartupinfo\u001b[49m\u001b[43m,\u001b[49m\u001b[43m \u001b[49m\u001b[43mcreationflags\u001b[49m\u001b[43m,\u001b[49m\u001b[43m \u001b[49m\u001b[43mshell\u001b[49m\u001b[43m,\u001b[49m\n\u001b[1;32m    974\u001b[0m \u001b[43m                        \u001b[49m\u001b[43mp2cread\u001b[49m\u001b[43m,\u001b[49m\u001b[43m \u001b[49m\u001b[43mp2cwrite\u001b[49m\u001b[43m,\u001b[49m\n\u001b[1;32m    975\u001b[0m \u001b[43m                        \u001b[49m\u001b[43mc2pread\u001b[49m\u001b[43m,\u001b[49m\u001b[43m \u001b[49m\u001b[43mc2pwrite\u001b[49m\u001b[43m,\u001b[49m\n\u001b[1;32m    976\u001b[0m \u001b[43m                        \u001b[49m\u001b[43merrread\u001b[49m\u001b[43m,\u001b[49m\u001b[43m \u001b[49m\u001b[43merrwrite\u001b[49m\u001b[43m,\u001b[49m\n\u001b[1;32m    977\u001b[0m \u001b[43m                        \u001b[49m\u001b[43mrestore_signals\u001b[49m\u001b[43m,\u001b[49m\n\u001b[1;32m    978\u001b[0m \u001b[43m                        \u001b[49m\u001b[43mgid\u001b[49m\u001b[43m,\u001b[49m\u001b[43m \u001b[49m\u001b[43mgids\u001b[49m\u001b[43m,\u001b[49m\u001b[43m \u001b[49m\u001b[43muid\u001b[49m\u001b[43m,\u001b[49m\u001b[43m \u001b[49m\u001b[43mumask\u001b[49m\u001b[43m,\u001b[49m\n\u001b[1;32m    979\u001b[0m \u001b[43m                        \u001b[49m\u001b[43mstart_new_session\u001b[49m\u001b[43m)\u001b[49m\n\u001b[1;32m    980\u001b[0m \u001b[38;5;28;01mexcept\u001b[39;00m:\n\u001b[1;32m    981\u001b[0m     \u001b[38;5;66;03m# Cleanup if the child failed starting.\u001b[39;00m\n\u001b[1;32m    982\u001b[0m     \u001b[38;5;28;01mfor\u001b[39;00m f \u001b[38;5;129;01min\u001b[39;00m \u001b[38;5;28mfilter\u001b[39m(\u001b[38;5;28;01mNone\u001b[39;00m, (\u001b[38;5;28mself\u001b[39m\u001b[38;5;241m.\u001b[39mstdin, \u001b[38;5;28mself\u001b[39m\u001b[38;5;241m.\u001b[39mstdout, \u001b[38;5;28mself\u001b[39m\u001b[38;5;241m.\u001b[39mstderr)):\n",
      "File \u001b[0;32m/usr/lib/python3.10/subprocess.py:1863\u001b[0m, in \u001b[0;36mPopen._execute_child\u001b[0;34m(self, args, executable, preexec_fn, close_fds, pass_fds, cwd, env, startupinfo, creationflags, shell, p2cread, p2cwrite, c2pread, c2pwrite, errread, errwrite, restore_signals, gid, gids, uid, umask, start_new_session)\u001b[0m\n\u001b[1;32m   1861\u001b[0m     \u001b[38;5;28;01mif\u001b[39;00m errno_num \u001b[38;5;241m!=\u001b[39m \u001b[38;5;241m0\u001b[39m:\n\u001b[1;32m   1862\u001b[0m         err_msg \u001b[38;5;241m=\u001b[39m os\u001b[38;5;241m.\u001b[39mstrerror(errno_num)\n\u001b[0;32m-> 1863\u001b[0m     \u001b[38;5;28;01mraise\u001b[39;00m child_exception_type(errno_num, err_msg, err_filename)\n\u001b[1;32m   1864\u001b[0m \u001b[38;5;28;01mraise\u001b[39;00m child_exception_type(err_msg)\n",
      "\u001b[0;31mFileNotFoundError\u001b[0m: [Errno 2] No such file or directory: 'scrot'"
     ]
    }
   ],
   "source": [
    "# Install PyAutoGUI if not already installed\n",
    "# !pip install pyautogui\n",
    "\n",
    "import pyautogui\n",
    "import time\n",
    "import subprocess\n",
    "\n",
    "\n",
    "# Function to pause execution and display a message\n",
    "def pause_with_message(message):\n",
    "    print(message)\n",
    "    input(\"Press Enter to continue...\")\n",
    "\n",
    "# Check if \"scrot\" is installed\n",
    "def is_scrot_installed():\n",
    "    try:\n",
    "        subprocess.run([\"scrot\", \"--version\"], stdout=subprocess.PIPE, stderr=subprocess.PIPE, check=True)\n",
    "        return True\n",
    "    except subprocess.CalledProcessError:\n",
    "        return False\n",
    "\n",
    "# Install \"scrot\" if not already installed\n",
    "def install_scrot():\n",
    "    subprocess.run([\"sudo\", \"apt-get\", \"install\", \"scrot\"], check=True)\n",
    "\n",
    "# Take a screenshot if \"scrot\" is installed\n",
    "if is_scrot_installed():\n",
    "    screenshot = pyautogui.screenshot()\n",
    "    screenshot_path = \",/\"\n",
    "    screenshot.save(screenshot_path)\n",
    "    print(\"Screenshot saved:\", screenshot_path)\n",
    "else:\n",
    "    print(\"Cannot take screenshot. 'scrot' is not installed.\")\n",
    "\n",
    "# Take a screenshot if \"scrot\" is installed\n",
    "if is_scrot_installed():\n",
    "    screenshot = pyautogui.screenshot()\n",
    "    screenshot_path = \"./screenshot.png\"  # Specify the correct path\n",
    "    screenshot.save(screenshot_path)\n",
    "    print(\"Screenshot saved:\", screenshot_path)\n",
    "else:\n",
    "    print(\"Cannot take screenshot. 'scrot' is not installed.\")\n",
    "\n",
    "# Get screen size\n",
    "screen_width, screen_height = pyautogui.size()\n",
    "print(\"Screen size:\", screen_width, \"x\", screen_height)\n",
    "\n",
    "# Get mouse position\n",
    "mouse_x, mouse_y = pyautogui.position()\n",
    "print(\"Mouse position:\", mouse_x, mouse_y)\n",
    "\n",
    "# Move the mouse to a specific position\n",
    "new_x, new_y = 500, 500\n",
    "pyautogui.moveTo(new_x, new_y, duration=1)\n",
    "\n",
    "# Click the mouse at a specific position\n",
    "pyautogui.click(new_x, new_y)\n",
    "\n",
    "# Type a message using the keyboard\n",
    "message = \"Hello, PyAutoGUI!\"\n",
    "pyautogui.write(message, interval=0.1)  # Typing with a slight delay\n",
    "\n",
    "# Take a screenshot\n",
    "screenshot = pyautogui.screenshot()\n",
    "screenshot.save(\"screenshot.png\")\n",
    "\n",
    "# Scroll the mouse wheel\n",
    "scroll_amount = 3\n",
    "pyautogui.scroll(scroll_amount)\n",
    "\n",
    "# Keyboard shortcuts\n",
    "pyautogui.hotkey(\"ctrl\", \"c\")  # Simulate Ctrl+C\n",
    "\n",
    "# Waiting\n",
    "time.sleep(2)  # Pause execution for 2 seconds\n",
    "\n",
    "# Restoring mouse to original position\n",
    "pyautogui.moveTo(mouse_x, mouse_y, duration=1)\n",
    "\n",
    "# Display message and pause for confirmation\n",
    "pause_with_message(\"Automation script completed.\")"
   ]
  },
  {
   "cell_type": "code",
   "execution_count": null,
   "metadata": {},
   "outputs": [],
   "source": []
  },
  {
   "cell_type": "code",
   "execution_count": null,
   "metadata": {},
   "outputs": [],
   "source": [
    "#import\n",
    "import pyautogui"
   ]
  },
  {
   "cell_type": "code",
   "execution_count": null,
   "metadata": {},
   "outputs": [],
   "source": [
    "#choose position\n",
    "pyautogui.position()"
   ]
  },
  {
   "cell_type": "code",
   "execution_count": null,
   "metadata": {},
   "outputs": [],
   "source": [
    "#keyboard control\n",
    "pyautogui.hotkey('ctrl', 'shift', 'esc')"
   ]
  },
  {
   "cell_type": "code",
   "execution_count": null,
   "metadata": {},
   "outputs": [],
   "source": [
    "#move to move to previous tab on browser\n",
    "pyautogui.hotkey('ctrlleft', 'shiftleft', 'tab', interval = 0.25)\n",
    "\n",
    "#pan around the screen\n",
    "pyautogui.moveTo(1907, 230)\n",
    "pyautogui.dragTo(84, 230, button='left')\n",
    "\n",
    "#select position\n",
    "pyautogui.click(x=373, y=151)"
   ]
  },
  {
   "cell_type": "markdown",
   "metadata": {},
   "source": [
    "# Mapillary extraction"
   ]
  },
  {
   "cell_type": "code",
   "execution_count": null,
   "metadata": {},
   "outputs": [],
   "source": [
    "#move to mapillary window\n",
    "pyautogui.hotkey('ctrlleft', 'shiftleft', 'tab', interval = 0.25)\n",
    "\n",
    "pyautogui.click(x=373, y=151)\n",
    "pyautogui.click(x=624, y=277)\n",
    "pyautogui.click(x=683, y=191)\n",
    "\n",
    "for each in range(8):\n",
    "    \n",
    "    for each in range(24):\n",
    "        #pan around the screen\n",
    "        pyautogui.moveTo(1907, 230)\n",
    "        pyautogui.dragTo(84, 230, button='left')\n",
    "        pyautogui.PAUSE = 2\n",
    "    \n",
    "\n",
    "        #downloading data\n",
    "        pyautogui.click(x=373, y=151)\n",
    "        pyautogui.click(x=624, y=277)\n",
    "        pyautogui.click(x=683, y=191)\n",
    "\n",
    "    \n",
    "    for each in range(24):\n",
    "        #pan around the screen\n",
    "        pyautogui.moveTo(84, 230)\n",
    "        pyautogui.dragTo(1907, 230, button='left')\n",
    "        \n",
    "    \n",
    "    pyautogui.moveTo(475, 1079)\n",
    "    pyautogui.dragTo(475, 126, button='left')\n",
    "    \n",
    "    pyautogui.click(x=373, y=151)\n",
    "    pyautogui.click(x=624, y=277)\n",
    "    pyautogui.click(x=683, y=191)"
   ]
  },
  {
   "cell_type": "markdown",
   "metadata": {},
   "source": [
    "# TaskMonk Batch Creation"
   ]
  },
  {
   "cell_type": "code",
   "execution_count": null,
   "metadata": {},
   "outputs": [],
   "source": [
    "#Automatic new batch creation \n",
    "new_batch_name = 'Hello_world'\n",
    "\n",
    "pyautogui.click('./chrome_newtab.png', interval=1)\n",
    "pyautogui.write('./home', interval=0.1)\n",
    "pyautogui.press('enter', interval=2)\n",
    "pyautogui.click(1522, 137, interval=1)\n",
    "pyautogui.moveTo(262, 628)\n",
    "pyautogui.click(button = 'left', interval=1)\n",
    "pyautogui.moveTo(1188, 232)\n",
    "pyautogui.click(button = 'left')\n",
    "pyautogui.moveTo(153, 402)\n",
    "pyautogui.click(button = 'left')\n",
    "pyautogui.moveTo(1761, 328)\n",
    "pyautogui.click(button = 'left')\n",
    "pyautogui.moveTo(934, 439)\n",
    "pyautogui.click(button = 'left')\n",
    "pyautogui.click(button = 'left')\n",
    "pyautogui.write(new_batch_name)\n",
    "pyautogui.moveTo(1121, 757)\n",
    "pyautogui.click(button = 'left')\n",
    "pyautogui.click(button = 'left')\n"
   ]
  },
  {
   "cell_type": "markdown",
   "metadata": {},
   "source": [
    "# open new tab"
   ]
  },
  {
   "cell_type": "code",
   "execution_count": null,
   "metadata": {},
   "outputs": [],
   "source": [
    "chrome_newtab = pyautogui.locateOnScreen('./chrome_newtab.png')\n",
    "chrome_newtab_point = pyautogui.center(chrome_newtab)\n",
    "chrome_newtab_pointx ,chrome_newtab_pointy = chrome_newtab_point\n",
    "pyautogui.click(chrome_newtab_pointx ,chrome_newtab_pointy)"
   ]
  },
  {
   "cell_type": "code",
   "execution_count": null,
   "metadata": {},
   "outputs": [],
   "source": [
    "#test"
   ]
  }
 ],
 "metadata": {
  "kernelspec": {
   "display_name": "Python 3 (ipykernel)",
   "language": "python",
   "name": "python3"
  },
  "language_info": {
   "codemirror_mode": {
    "name": "ipython",
    "version": 3
   },
   "file_extension": ".py",
   "mimetype": "text/x-python",
   "name": "python",
   "nbconvert_exporter": "python",
   "pygments_lexer": "ipython3",
   "version": "3.10.12"
  }
 },
 "nbformat": 4,
 "nbformat_minor": 4
}
